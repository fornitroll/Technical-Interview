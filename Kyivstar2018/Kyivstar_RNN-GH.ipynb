{
 "cells": [
  {
   "cell_type": "code",
   "execution_count": 1,
   "metadata": {},
   "outputs": [
    {
     "name": "stderr",
     "output_type": "stream",
     "text": [
      "/jet/var/python/lib/python3.6/site-packages/h5py/__init__.py:36: FutureWarning: Conversion of the second argument of issubdtype from `float` to `np.floating` is deprecated. In future, it will be treated as `np.float64 == np.dtype(float).type`.\n",
      "  from ._conv import register_converters as _register_converters\n"
     ]
    }
   ],
   "source": [
    "from IPython.display import display, Image\n",
    "import seaborn as sns; sns.set()\n",
    "from sklearn.preprocessing import OneHotEncoder\n",
    "from sklearn.model_selection import train_test_split\n",
    "from sklearn.metrics import roc_auc_score\n",
    "\n",
    "import os\n",
    "import tensorflow as tf\n",
    "import numpy as np\n",
    "import pandas as pd\n",
    "import matplotlib.pyplot as plt\n",
    "from matplotlib.ticker import FormatStrFormatter\n",
    "import seaborn as sns\n",
    "%matplotlib inline\n",
    "sns.set()"
   ]
  },
  {
   "cell_type": "code",
   "execution_count": 2,
   "metadata": {},
   "outputs": [],
   "source": [
    "def data_process(avarage_months=True, fill_na='zero'):\n",
    "    #fill_na= 'zero', 'avg'\n",
    "    X = pd.read_csv('BigDataSchool_features.csv')\n",
    "    Y_train = pd.read_csv('BigDataSchool_train_set.csv')\n",
    "    Y_test = pd.read_csv('BigDataSchool_test_set.csv')\n",
    "    \n",
    "    if fill_na=='zero':\n",
    "        X = X.fillna(0)\n",
    "\n",
    "    #del_list =['F23','MONTH_NUM_FROM_EVENT', 'F4', 'F5',  'F19', 'F22', 'F24', 'F31', 'F45']\n",
    "    del_list =['F23','MONTH_NUM_FROM_EVENT']\n",
    "    \n",
    "    known_id = list(Y_train.ID)\n",
    "    Uknown_id = list(Y_test.ID)\n",
    "    X_train_raw = X[X.ID.isin(known_id)]\n",
    "    X_test_raw = X[X.ID.isin(Uknown_id)]\n",
    "    \n",
    "\n",
    "    if avarage_months==True: # if mean thru all months is needed\n",
    "        X_train_raw = X_train_raw.groupby(['ID']).mean()\n",
    "        X_test_raw = X_test_raw.groupby(['ID']).mean()\n",
    "\n",
    "    X_train = X_train_raw.drop(del_list, axis = 1)\n",
    "    X_test = X_test_raw.drop(del_list, axis = 1)\n",
    "    \n",
    "    return X_train, X_test, Y_train, Y_test  "
   ]
  },
  {
   "cell_type": "code",
   "execution_count": 11,
   "metadata": {},
   "outputs": [],
   "source": [
    "X_train, X_test, Y_train, Y_test = data_process(avarage_months=True, fill_na='zero')"
   ]
  },
  {
   "cell_type": "code",
   "execution_count": 12,
   "metadata": {
    "scrolled": true
   },
   "outputs": [],
   "source": [
    "# Use if there  avarage_months=True\n",
    "X = np.array(X_train)\n",
    "labels_train = (np.arange(2) == Y_train.TARGET.values[:,None]).astype(np.float32)\n",
    "labels_test = (np.arange(2) == Y_test.TARGET.values[:,None]).astype(np.float32)"
   ]
  },
  {
   "cell_type": "code",
   "execution_count": 13,
   "metadata": {},
   "outputs": [
    {
     "data": {
      "text/plain": [
       "(12890, 45)"
      ]
     },
     "execution_count": 13,
     "metadata": {},
     "output_type": "execute_result"
    }
   ],
   "source": [
    "X.shape"
   ]
  },
  {
   "cell_type": "code",
   "execution_count": 14,
   "metadata": {},
   "outputs": [
    {
     "data": {
      "text/plain": [
       "array([[4.00000000e+00, 1.30500000e+02, 2.31666667e+01, ...,\n",
       "        0.00000000e+00, 2.00000000e+00, 6.85500000e+02],\n",
       "       [5.00000000e+00, 1.36500000e+02, 1.91666667e+01, ...,\n",
       "        0.00000000e+00, 1.16666667e+00, 3.86866667e+03],\n",
       "       [2.00000000e+01, 1.65000000e+01, 2.33333333e+01, ...,\n",
       "        0.00000000e+00, 1.00000000e+00, 1.69833333e+02],\n",
       "       ...,\n",
       "       [1.60000000e+01, 4.55000000e+01, 2.70000000e+01, ...,\n",
       "        8.33333333e-01, 1.33333333e+00, 7.51016667e+03],\n",
       "       [2.00000000e+00, 9.88333333e+01, 2.00000000e+01, ...,\n",
       "        0.00000000e+00, 1.00000000e+00, 9.15000000e+02],\n",
       "       [1.00000000e+01, 9.96666667e+01, 2.85000000e+01, ...,\n",
       "        0.00000000e+00, 1.00000000e+00, 1.73783333e+03]])"
      ]
     },
     "execution_count": 14,
     "metadata": {},
     "output_type": "execute_result"
    }
   ],
   "source": [
    "X"
   ]
  },
  {
   "cell_type": "code",
   "execution_count": 15,
   "metadata": {},
   "outputs": [],
   "source": [
    "train_dataset, test_dataset, train_labels, test_labels = train_test_split(X, labels_train ,test_size=0.3, random_state=32)"
   ]
  },
  {
   "cell_type": "code",
   "execution_count": 16,
   "metadata": {},
   "outputs": [
    {
     "name": "stdout",
     "output_type": "stream",
     "text": [
      "WARNING:tensorflow:From <ipython-input-16-45e4360a9294>:24: softmax_cross_entropy_with_logits (from tensorflow.python.ops.nn_ops) is deprecated and will be removed in a future version.\n",
      "Instructions for updating:\n",
      "\n",
      "Future major versions of TensorFlow will allow gradients to flow\n",
      "into the labels input on backprop by default.\n",
      "\n",
      "See @{tf.nn.softmax_cross_entropy_with_logits_v2}.\n",
      "\n"
     ]
    }
   ],
   "source": [
    "element_size = 45 #  dimension of each vector in our sequence\n",
    "time_steps = 1   #  number of such elements in a sequence\n",
    "num_classes = 2\n",
    "batch_size = 128\n",
    "hidden_layer_size = 256 # neurons number\n",
    "n_epochs = 10000\n",
    "learning_rate = 0.01\n",
    "\n",
    "graph = tf.Graph()\n",
    "with graph.as_default():\n",
    "    _inputs = tf.placeholder(tf.float32,shape=[None, time_steps, element_size])\n",
    "    y = tf.placeholder(tf.float32, shape=[None,num_classes])\n",
    "    # TensorFlow built-in functions\n",
    "    rnn_cell = tf.contrib.rnn.BasicRNNCell(num_units = hidden_layer_size)\n",
    "    outputs, states = tf.nn.dynamic_rnn(rnn_cell, _inputs, dtype=tf.float32)   # outputs a single tensor for all outputs at every time step\n",
    "    Wl = tf.Variable(tf.truncated_normal([hidden_layer_size, num_classes],\n",
    "    mean=0,stddev=.01))\n",
    "    bl = tf.Variable(tf.truncated_normal([num_classes],mean=0,stddev=.01))\n",
    "    def get_linear_layer(vector):\n",
    "        return tf.matmul(vector, Wl) + bl\n",
    "    last_rnn_output = outputs[:,-1,:]\n",
    "    final_output = get_linear_layer(last_rnn_output)\n",
    "    softmax = tf.nn.softmax_cross_entropy_with_logits(logits=final_output,\n",
    "    labels=y)\n",
    "    cross_entropy = tf.reduce_mean(softmax)\n",
    "    train_step = tf.train.RMSPropOptimizer(0.001, 0.9).minimize(softmax)\n",
    "    correct_prediction = tf.equal(tf.argmax(y,1), tf.argmax(final_output,1))\n",
    "    accuracy = (tf.reduce_mean(tf.cast(correct_prediction, tf.float32)))*100\n",
    "    \n",
    "    def final_predicion(x_test, clf, save_csv = False):\n",
    "        y_pred = clf.predict(x_test)\n",
    "        if save_csv == True:\n",
    "            pd.DataFrame({'ID': Y_test.ID, 'TARGET': y_pred}).to_csv('submit.csv', index=False)\n",
    "            return 'Submittal dataset is saved as submit.csv'\n",
    "        return pd.Series(y_pred, index=Y_test.ID)\n",
    "    # data for model saving\n",
    "    #saver = tf.train.Saver(tf.all_variables())\n",
    "    path = os.getcwd()+'/saved_model/my_model'"
   ]
  },
  {
   "cell_type": "code",
   "execution_count": 20,
   "metadata": {},
   "outputs": [
    {
     "name": "stdout",
     "output_type": "stream",
     "text": [
      "Initialized\n",
      "Iter 0, Minibatch Loss= 0.412069, Training Accuracy= 90.62500, Training AUC ROC= 0.66739\n",
      "Testing Accuracy: 91.69899 , Testing AUC ROC: 0.49501\n",
      "auc_roc= 0.495009771940923 is greater than acc= 0\n",
      "Iter 1000, Minibatch Loss= 0.223245, Training Accuracy= 91.40625, Training AUC ROC= 0.88500\n",
      "Testing Accuracy: 91.67313 , Testing AUC ROC: 0.67284\n",
      "auc_roc= 0.67283678738165 is greater than acc= 0.495009771940923\n",
      "Iter 2000, Minibatch Loss= 0.282136, Training Accuracy= 89.06250, Training AUC ROC= 0.79073\n",
      "Testing Accuracy: 91.69899 , Testing AUC ROC: 0.64221\n",
      "Iter 3000, Minibatch Loss= 0.314224, Training Accuracy= 88.28125, Training AUC ROC= 0.77068\n",
      "Testing Accuracy: 91.466255 , Testing AUC ROC: 0.63001\n",
      "Iter 4000, Minibatch Loss= 0.131795, Training Accuracy= 96.09375, Training AUC ROC= 0.80325\n",
      "Testing Accuracy: 91.724846 , Testing AUC ROC: 0.64478\n",
      "Iter 5000, Minibatch Loss= 0.217488, Training Accuracy= 93.75000, Training AUC ROC= 0.75625\n",
      "Testing Accuracy: 91.59555 , Testing AUC ROC: 0.64382\n",
      "Iter 6000, Minibatch Loss= 0.271080, Training Accuracy= 91.40625, Training AUC ROC= 0.72261\n",
      "Testing Accuracy: 91.54384 , Testing AUC ROC: 0.67285\n",
      "auc_roc= 0.6728518075440091 is greater than acc= 0.67283678738165\n",
      "Iter 7000, Minibatch Loss= 0.241342, Training Accuracy= 92.18750, Training AUC ROC= 0.70000\n",
      "Testing Accuracy: 91.64727 , Testing AUC ROC: 0.62937\n",
      "Iter 8000, Minibatch Loss= 0.162013, Training Accuracy= 94.53125, Training AUC ROC= 0.91972\n",
      "Testing Accuracy: 91.64727 , Testing AUC ROC: 0.66328\n",
      "Iter 9000, Minibatch Loss= 0.076903, Training Accuracy= 98.43750, Training AUC ROC= 0.90873\n",
      "Testing Accuracy: 91.64727 , Testing AUC ROC: 0.66029\n"
     ]
    }
   ],
   "source": [
    "with tf.Session(graph=graph) as sess:\n",
    "    tf.global_variables_initializer().run()\n",
    "    print('Initialized')\n",
    "    test_dataset = test_dataset.reshape((-1, time_steps, element_size))\n",
    "    accur = 0\n",
    "    \n",
    "    for i in range(10000):\n",
    "        offset = (i * batch_size) % (train_labels.shape[0] - batch_size)\n",
    "        batch_x, batch_y = train_dataset[offset:(offset+batch_size),:], train_labels[offset:(offset+batch_size)]\n",
    "        batch_x = batch_x.reshape((batch_size, time_steps, element_size))\n",
    "        #acc = sess.run(accuracy, feed_dict={_inputs: batch_x, y: batch_y})\n",
    "        #loss = sess.run(cross_entropy,feed_dict={_inputs:batch_x, y:batch_y})\n",
    "        sess.run(train_step,feed_dict={_inputs:batch_x, y:batch_y})\n",
    "        if i % 1000 == 0:\n",
    "            acc = sess.run(accuracy, feed_dict={_inputs: batch_x, y: batch_y})\n",
    "            loss = sess.run(cross_entropy,feed_dict={_inputs:batch_x, y:batch_y})\n",
    "            \n",
    "            y_test = batch_y\n",
    "            y_pred = sess.run(tf.nn.softmax(final_output), feed_dict={_inputs: batch_x, y: batch_y})\n",
    "            auc_roc = roc_auc_score(y_test, y_pred)\n",
    "            print (\"Iter \" + str(i) + \", Minibatch Loss= \" + \\\n",
    "                \"{:.6f}\".format(loss) + \", Training Accuracy= \" + \\\n",
    "                    \"{:.5f}\".format(acc) + \", Training AUC ROC= \" + \\\n",
    "                    \"{:.5f}\".format(auc_roc))\n",
    "            # Testing accuracy and AUR ROC\n",
    "            y_test = test_labels\n",
    "            y_pred = sess.run(tf.nn.softmax(final_output), feed_dict={_inputs: test_dataset, y: test_labels})\n",
    "            auc_roc = roc_auc_score(y_test, y_pred)            \n",
    "            print (\"Testing Accuracy:\",sess.run(accuracy, feed_dict={_inputs: test_dataset, y: test_labels}),\\\n",
    "                  \", Testing AUC ROC:\",\"{:.5f}\".format(auc_roc))\n",
    "            # save the model with best auc_roc evaluatiuon\n",
    "            if auc_roc > accur:\n",
    "                saver = tf.train.Saver(tf.all_variables())\n",
    "                print('auc_roc=',auc_roc,'is greater than acc=',accur) # print just to appoint that MAX AUC_ROC is changed\n",
    "                saver.save(sess, path)\n",
    "                accur = auc_roc"
   ]
  },
  {
   "cell_type": "code",
   "execution_count": 21,
   "metadata": {},
   "outputs": [
    {
     "name": "stdout",
     "output_type": "stream",
     "text": [
      "INFO:tensorflow:Restoring parameters from /jet/prs/workspace/kyivstar2018/saved_model/my_model\n",
      "Model restored.\n",
      "Initialized\n",
      "Testing Accuracy: 91.54384 , Testing AUC ROC: 0.67285\n",
      "[-0.16812158  0.172959  ]\n"
     ]
    }
   ],
   "source": [
    "with tf.Session(graph=graph) as sess:\n",
    "    tf.global_variables_initializer().run()\n",
    "    #saver = tf.train.Saver()\n",
    "    saver.restore(sess, path)\n",
    "    print(\"Model restored.\")\n",
    "    print('Initialized')\n",
    "    y_test = test_labels\n",
    "    y_pred = sess.run(tf.nn.softmax(final_output), feed_dict={_inputs: test_dataset, y: test_labels})\n",
    "    auc_roc = roc_auc_score(y_test, y_pred) \n",
    "    print (\"Testing Accuracy:\",sess.run(accuracy, feed_dict={_inputs: test_dataset, y: test_labels}),\\\n",
    "                  \", Testing AUC ROC:\",\"{:.5f}\".format(auc_roc))\n",
    "    print(sess.run(bl))"
   ]
  },
  {
   "cell_type": "code",
   "execution_count": null,
   "metadata": {},
   "outputs": [],
   "source": []
  }
 ],
 "metadata": {
  "kernelspec": {
   "display_name": "Python 3",
   "language": "python",
   "name": "python3"
  },
  "language_info": {
   "codemirror_mode": {
    "name": "ipython",
    "version": 3
   },
   "file_extension": ".py",
   "mimetype": "text/x-python",
   "name": "python",
   "nbconvert_exporter": "python",
   "pygments_lexer": "ipython3",
   "version": "3.6.5"
  }
 },
 "nbformat": 4,
 "nbformat_minor": 2
}
